{
  "nbformat": 4,
  "nbformat_minor": 0,
  "metadata": {
    "colab": {
      "name": "Export_ee_.ipynb",
      "provenance": [],
      "collapsed_sections": [],
      "toc_visible": true,
      "include_colab_link": true
    },
    "kernelspec": {
      "name": "python3",
      "display_name": "Python 3"
    }
  },
  "cells": [
    {
      "cell_type": "markdown",
      "metadata": {
        "id": "view-in-github",
        "colab_type": "text"
      },
      "source": [
        "<a href=\"https://colab.research.google.com/github/visalikk/CompHbeta/blob/master/Export_ee_.ipynb\" target=\"_parent\"><img src=\"https://colab.research.google.com/assets/colab-badge.svg\" alt=\"Open In Colab\"/></a>"
      ]
    },
    {
      "cell_type": "markdown",
      "metadata": {
        "id": "YAXprqVQDx6o",
        "colab_type": "text"
      },
      "source": [
        "<!--COURSE_INFORMATION-->\n",
        "<img align=\"left\" style=\"padding-right:10px;\" src=\"https://sitejerk.com/images/google-earth-logo-png-5.png\" width=5% >\n",
        "<img align=\"right\" style=\"padding-left:10px;\" src=\"https://colab.research.google.com/img/colab_favicon_256px.png\" width=6% >\n",
        "\n",
        "\n",
        ">> *This notebook is part of the free course [EEwPython](https://colab.research.google.com/github/csaybar/EEwPython/blob/master/index.ipynb); the content is available [on GitHub](https://github.com/csaybar/EEwPython)* and released under the [Apache 2.0 License](https://www.gnu.org/licenses/gpl-3.0.en.html). 99% of this material has been adapted from [Google Earth Engine Guides](https://developers.google.com/earth-engine/)."
      ]
    },
    {
      "cell_type": "markdown",
      "metadata": {
        "id": "IN9ycDgvDyeW",
        "colab_type": "text"
      },
      "source": [
        "<!--NAVIGATION-->\n",
        " < [Specialized Algorithms](9_SpecializedAlgorithms.ipynb) | [Contents](index.ipynb) |  \n",
        "\n",
        "<a href=\"https://colab.research.google.com/github/csaybar/EEwPython/blob/master/9_SpecializedAlgorithms.ipynb\"><img align=\"left\" src=\"https://colab.research.google.com/assets/colab-badge.svg\" alt=\"Open in Colab\" title=\"Open and Execute in Google Colaboratory\"></a>"
      ]
    },
    {
      "cell_type": "markdown",
      "metadata": {
        "id": "M9EbU74_ESvY",
        "colab_type": "text"
      },
      "source": [
        "<center>\n",
        "<h1>Google Earth Engine with Python </h1>\n",
        "<h2> Export Data </h2>\n",
        "</center>\n",
        "<h2> Topics:</h2>\n",
        "\n",
        "1. Exporting Images\n",
        "2. Exporting Tables and vector data\n",
        "3. Exporting videos\n",
        "\n",
        "You can export images, map tiles, tables and video from Earth Engine. The exports can be sent to your Google Drive account, to [Google Cloud Storage](https://cloud.google.com/storage/) or to a new Earth Engine asset.\n",
        "\n",
        "To use Google Cloud Storage (a fee-based service), you'll need to set up a project, enable billing for the project, and create a storage bucket. See the [Cloud Storage Quickstart](https://cloud.google.com/storage/docs/quickstart-console) page for instructions. See [this guide](https://cloud.google.com/storage/docs/naming) for information on storage bucket naming. Data exported to a Cloud Storage bucket will have the bucket's [default object Access Control List (ACL)](https://cloud.google.com/storage/docs/access-control/create-manage-lists#defaultobjects). You must have write permission for the specified bucket.\n",
        "\n",
        "The following sections describe each type of export in detail."
      ]
    },
    {
      "cell_type": "markdown",
      "metadata": {
        "id": "vSUFepPPFKeJ",
        "colab_type": "text"
      },
      "source": [
        "## Connecting GEE with Google Services"
      ]
    },
    {
      "cell_type": "markdown",
      "metadata": {
        "id": "pBbqfaJ2FM0I",
        "colab_type": "text"
      },
      "source": [
        "- **Authenticate to Earth Engine**"
      ]
    },
    {
      "cell_type": "code",
      "metadata": {
        "id": "v6M68WksFMZ1",
        "colab_type": "code",
        "colab": {
          "base_uri": "https://localhost:8080/",
          "height": 494
        },
        "outputId": "ebd0ed70-621c-4037-8056-f252bc6d4ff9"
      },
      "source": [
        "!pip install earthengine-api #earth-engine Python API"
      ],
      "execution_count": null,
      "outputs": [
        {
          "output_type": "stream",
          "text": [
            "Requirement already satisfied: earthengine-api in /usr/local/lib/python3.6/dist-packages (0.1.227)\n",
            "Requirement already satisfied: httplib2<1dev,>=0.9.2 in /usr/local/lib/python3.6/dist-packages (from earthengine-api) (0.17.4)\n",
            "Requirement already satisfied: google-auth>=1.4.1 in /usr/local/lib/python3.6/dist-packages (from earthengine-api) (1.17.2)\n",
            "Requirement already satisfied: future in /usr/local/lib/python3.6/dist-packages (from earthengine-api) (0.16.0)\n",
            "Requirement already satisfied: google-api-python-client in /usr/local/lib/python3.6/dist-packages (from earthengine-api) (1.7.12)\n",
            "Requirement already satisfied: httplib2shim in /usr/local/lib/python3.6/dist-packages (from earthengine-api) (0.0.3)\n",
            "Requirement already satisfied: six in /usr/local/lib/python3.6/dist-packages (from earthengine-api) (1.15.0)\n",
            "Requirement already satisfied: google-cloud-storage in /usr/local/lib/python3.6/dist-packages (from earthengine-api) (1.18.1)\n",
            "Requirement already satisfied: google-auth-httplib2>=0.0.3 in /usr/local/lib/python3.6/dist-packages (from earthengine-api) (0.0.4)\n",
            "Requirement already satisfied: setuptools>=40.3.0 in /usr/local/lib/python3.6/dist-packages (from google-auth>=1.4.1->earthengine-api) (49.1.0)\n",
            "Requirement already satisfied: cachetools<5.0,>=2.0.0 in /usr/local/lib/python3.6/dist-packages (from google-auth>=1.4.1->earthengine-api) (4.1.1)\n",
            "Requirement already satisfied: pyasn1-modules>=0.2.1 in /usr/local/lib/python3.6/dist-packages (from google-auth>=1.4.1->earthengine-api) (0.2.8)\n",
            "Requirement already satisfied: rsa<5,>=3.1.4; python_version >= \"3\" in /usr/local/lib/python3.6/dist-packages (from google-auth>=1.4.1->earthengine-api) (4.6)\n",
            "Requirement already satisfied: uritemplate<4dev,>=3.0.0 in /usr/local/lib/python3.6/dist-packages (from google-api-python-client->earthengine-api) (3.0.1)\n",
            "Requirement already satisfied: certifi in /usr/local/lib/python3.6/dist-packages (from httplib2shim->earthengine-api) (2020.6.20)\n",
            "Requirement already satisfied: urllib3 in /usr/local/lib/python3.6/dist-packages (from httplib2shim->earthengine-api) (1.24.3)\n",
            "Requirement already satisfied: google-resumable-media<0.5.0dev,>=0.3.1 in /usr/local/lib/python3.6/dist-packages (from google-cloud-storage->earthengine-api) (0.4.1)\n",
            "Requirement already satisfied: google-cloud-core<2.0dev,>=1.0.0 in /usr/local/lib/python3.6/dist-packages (from google-cloud-storage->earthengine-api) (1.0.3)\n",
            "Requirement already satisfied: pyasn1<0.5.0,>=0.4.6 in /usr/local/lib/python3.6/dist-packages (from pyasn1-modules>=0.2.1->google-auth>=1.4.1->earthengine-api) (0.4.8)\n",
            "Requirement already satisfied: google-api-core<2.0.0dev,>=1.14.0 in /usr/local/lib/python3.6/dist-packages (from google-cloud-core<2.0dev,>=1.0.0->google-cloud-storage->earthengine-api) (1.16.0)\n",
            "Requirement already satisfied: pytz in /usr/local/lib/python3.6/dist-packages (from google-api-core<2.0.0dev,>=1.14.0->google-cloud-core<2.0dev,>=1.0.0->google-cloud-storage->earthengine-api) (2018.9)\n",
            "Requirement already satisfied: protobuf>=3.4.0 in /usr/local/lib/python3.6/dist-packages (from google-api-core<2.0.0dev,>=1.14.0->google-cloud-core<2.0dev,>=1.0.0->google-cloud-storage->earthengine-api) (3.12.2)\n",
            "Requirement already satisfied: requests<3.0.0dev,>=2.18.0 in /usr/local/lib/python3.6/dist-packages (from google-api-core<2.0.0dev,>=1.14.0->google-cloud-core<2.0dev,>=1.0.0->google-cloud-storage->earthengine-api) (2.23.0)\n",
            "Requirement already satisfied: googleapis-common-protos<2.0dev,>=1.6.0 in /usr/local/lib/python3.6/dist-packages (from google-api-core<2.0.0dev,>=1.14.0->google-cloud-core<2.0dev,>=1.0.0->google-cloud-storage->earthengine-api) (1.52.0)\n",
            "Requirement already satisfied: idna<3,>=2.5 in /usr/local/lib/python3.6/dist-packages (from requests<3.0.0dev,>=2.18.0->google-api-core<2.0.0dev,>=1.14.0->google-cloud-core<2.0dev,>=1.0.0->google-cloud-storage->earthengine-api) (2.10)\n",
            "Requirement already satisfied: chardet<4,>=3.0.2 in /usr/local/lib/python3.6/dist-packages (from requests<3.0.0dev,>=2.18.0->google-api-core<2.0.0dev,>=1.14.0->google-cloud-core<2.0dev,>=1.0.0->google-cloud-storage->earthengine-api) (3.0.4)\n"
          ],
          "name": "stdout"
        }
      ]
    },
    {
      "cell_type": "code",
      "metadata": {
        "id": "JLv8sJcGFPIi",
        "colab_type": "code",
        "colab": {
          "base_uri": "https://localhost:8080/",
          "height": 266
        },
        "outputId": "82ce70fc-ae1c-4367-e4f6-47f8753d7de6"
      },
      "source": [
        "!earthengine authenticate "
      ],
      "execution_count": null,
      "outputs": [
        {
          "output_type": "stream",
          "text": [
            "WARNING:tensorflow:From /usr/local/lib/python3.6/dist-packages/tensorflow/python/compat/v2_compat.py:96: disable_resource_variables (from tensorflow.python.ops.variable_scope) is deprecated and will be removed in a future version.\n",
            "Instructions for updating:\n",
            "non-resource variables are not supported in the long term\n",
            "Running command using Cloud API.  Set --no-use_cloud_api to go back to using the API\n",
            "\n",
            "To authorize access needed by Earth Engine, open the following URL in a web browser and follow the instructions. If the web browser does not start automatically, please manually browse the URL below.\n",
            "\n",
            "    https://accounts.google.com/o/oauth2/auth?client_id=517222506229-vsmmajv00ul0bs7p89v5m89qs8eb9359.apps.googleusercontent.com&scope=https%3A%2F%2Fwww.googleapis.com%2Fauth%2Fearthengine+https%3A%2F%2Fwww.googleapis.com%2Fauth%2Fdevstorage.full_control&redirect_uri=urn%3Aietf%3Awg%3Aoauth%3A2.0%3Aoob&response_type=code&code_challenge=TANUVMNfr0cgHB-6TW4z3t49iUbIo3gn34FlRMnam38&code_challenge_method=S256\n",
            "\n",
            "The authorization workflow will generate a code, which you should paste in the box below. \n",
            "Enter verification code: 4/2AFtc5C6eNhbWYlKTlBmo5efqLYF6fh3BrojggMubhqRl0Ln1AC48g4\n",
            "\n",
            "Successfully saved authorization token.\n"
          ],
          "name": "stdout"
        }
      ]
    },
    {
      "cell_type": "markdown",
      "metadata": {
        "id": "rzr4BVsoFQO0",
        "colab_type": "text"
      },
      "source": [
        "- **Authenticate to Google Drive**\n"
      ]
    },
    {
      "cell_type": "code",
      "metadata": {
        "id": "ZvANQSVUFRTz",
        "colab_type": "code",
        "colab": {
          "base_uri": "https://localhost:8080/",
          "height": 125
        },
        "outputId": "2f1251a4-fafc-4eeb-c196-30b66e4975bd"
      },
      "source": [
        "from google.colab import drive\n",
        "drive.mount('/content/drive')"
      ],
      "execution_count": null,
      "outputs": [
        {
          "output_type": "stream",
          "text": [
            "Go to this URL in a browser: https://accounts.google.com/o/oauth2/auth?client_id=947318989803-6bn6qk8qdgf4n4g3pfee6491hc0brc4i.apps.googleusercontent.com&redirect_uri=urn%3aietf%3awg%3aoauth%3a2.0%3aoob&response_type=code&scope=email%20https%3a%2f%2fwww.googleapis.com%2fauth%2fdocs.test%20https%3a%2f%2fwww.googleapis.com%2fauth%2fdrive%20https%3a%2f%2fwww.googleapis.com%2fauth%2fdrive.photos.readonly%20https%3a%2f%2fwww.googleapis.com%2fauth%2fpeopleapi.readonly\n",
            "\n",
            "Enter your authorization code:\n",
            "··········\n",
            "Mounted at /content/drive\n"
          ],
          "name": "stdout"
        }
      ]
    },
    {
      "cell_type": "markdown",
      "metadata": {
        "id": "PDGdjh6qFST2",
        "colab_type": "text"
      },
      "source": [
        "- **Authenticate to Google Cloud**"
      ]
    },
    {
      "cell_type": "code",
      "metadata": {
        "id": "xltZxJX4FTYH",
        "colab_type": "code",
        "colab": {}
      },
      "source": [
        "from google.colab import auth\n",
        "auth.authenticate_user()"
      ],
      "execution_count": null,
      "outputs": []
    },
    {
      "cell_type": "markdown",
      "metadata": {
        "id": "DZw4_4Y8FU1G",
        "colab_type": "text"
      },
      "source": [
        "## Testing the software setup"
      ]
    },
    {
      "cell_type": "code",
      "metadata": {
        "id": "v7Obx9rnFZEL",
        "colab_type": "code",
        "colab": {}
      },
      "source": [
        "# Earth Engine Python API\n",
        "import ee\n",
        "ee.Initialize()"
      ],
      "execution_count": null,
      "outputs": []
    },
    {
      "cell_type": "code",
      "metadata": {
        "id": "JolFu0OaFanc",
        "colab_type": "code",
        "colab": {
          "base_uri": "https://localhost:8080/",
          "height": 34
        },
        "outputId": "97db20be-5ca7-4cd1-bd2d-7deb27e6a9cd"
      },
      "source": [
        "import folium\n",
        "\n",
        "# Define the URL format used for Earth Engine generated map tiles.\n",
        "EE_TILES = 'https://earthengine.googleapis.com/map/{mapid}/{{z}}/{{x}}/{{y}}?token={token}'\n",
        "\n"
      ],
      "execution_count": null,
      "outputs": [
        {
          "output_type": "stream",
          "text": [
            "Folium version: 0.8.3\n"
          ],
          "name": "stdout"
        }
      ]
    },
    {
      "cell_type": "code",
      "metadata": {
        "id": "CVcMvwKlKH_F",
        "colab_type": "code",
        "colab": {
          "base_uri": "https://localhost:8080/",
          "height": 167
        },
        "outputId": "9ded98a7-04f8-4372-ff88-8f173fbb2f4d"
      },
      "source": [
        "print('Folium version: ' + folium.__version__)"
      ],
      "execution_count": null,
      "outputs": [
        {
          "output_type": "error",
          "ename": "NameError",
          "evalue": "ignored",
          "traceback": [
            "\u001b[0;31m---------------------------------------------------------------------------\u001b[0m",
            "\u001b[0;31mNameError\u001b[0m                                 Traceback (most recent call last)",
            "\u001b[0;32m<ipython-input-1-0726d8b98e40>\u001b[0m in \u001b[0;36m<module>\u001b[0;34m()\u001b[0m\n\u001b[0;32m----> 1\u001b[0;31m \u001b[0mprint\u001b[0m\u001b[0;34m(\u001b[0m\u001b[0;34m'Folium version: '\u001b[0m \u001b[0;34m+\u001b[0m \u001b[0mfolium\u001b[0m\u001b[0;34m.\u001b[0m\u001b[0m__version__\u001b[0m\u001b[0;34m)\u001b[0m\u001b[0;34m\u001b[0m\u001b[0;34m\u001b[0m\u001b[0m\n\u001b[0m",
            "\u001b[0;31mNameError\u001b[0m: name 'folium' is not defined"
          ]
        }
      ]
    },
    {
      "cell_type": "code",
      "metadata": {
        "id": "FYpzL3C6GW_1",
        "colab_type": "code",
        "cellView": "form",
        "colab": {}
      },
      "source": [
        "#@title Mapdisplay: Display GEE objects using folium.\n",
        "def Mapdisplay(center, dicc, Tiles=\"OpensTreetMap\",zoom_start=10):\n",
        "    '''\n",
        "    :param center: Center of the map (Latitude and Longitude).\n",
        "    :param dicc: Earth Engine Geometries or Tiles dictionary\n",
        "    :param Tiles: Mapbox Bright,Mapbox Control Room,Stamen Terrain,Stamen Toner,stamenwatercolor,cartodbpositron.\n",
        "    :zoom_start: Initial zoom level for the map.\n",
        "    :return: A folium.Map object.\n",
        "    '''\n",
        "    mapViz = folium.Map(location=center,tiles=Tiles, zoom_start=zoom_start)\n",
        "    for k,v in dicc.items():\n",
        "      if ee.image.Image in [type(x) for x in v.values()]:\n",
        "        folium.TileLayer(\n",
        "            tiles = EE_TILES.format(**v),\n",
        "            attr  = 'Google Earth Engine',\n",
        "            overlay =True,\n",
        "            name  = k\n",
        "          ).add_to(mapViz)\n",
        "      else:\n",
        "        folium.GeoJson(\n",
        "        data = v,\n",
        "        name = k\n",
        "          ).add_to(mapViz)\n",
        "    mapViz.add_child(folium.LayerControl())\n",
        "    return mapViz"
      ],
      "execution_count": null,
      "outputs": []
    },
    {
      "cell_type": "markdown",
      "metadata": {
        "id": "ivM6tudaGaDi",
        "colab_type": "text"
      },
      "source": [
        "# 1. Exporting images\n",
        "\n",
        "You can export images from Earth Engine in [GeoTIFF](https://trac.osgeo.org/geotiff/) or [TFRecord](https://www.tensorflow.org/api_docs/python/tf/io#TFRecords_Format_Details) format. See [Configuration Parameters](https://developers.google.com/earth-engine/exporting#configuration-parameters) for more output options.\n"
      ]
    },
    {
      "cell_type": "code",
      "metadata": {
        "id": "wOBXHvKwJBbL",
        "colab_type": "code",
        "colab": {}
      },
      "source": [
        "# Load a landsat image and select three bands.\n",
        "landsat = ee.Image('LANDSAT/LC08/C01/T1_TOA/LC08_123032_20140515')\\\n",
        "            .select(['B4', 'B3', 'B2'])\n",
        "\n",
        "# Create a geometry representing an export region.\n",
        "geometry = ee.Geometry.Rectangle([103.9577, 1.4126, 103.5540, 1.2548])\n",
        "center = geometry.centroid().getInfo()['coordinates']\n",
        "center.reverse()\n",
        "\n",
        "#Mapdisplay(center,{'landsat':landsat.getMapId()},zoom_start=7)"
      ],
      "execution_count": null,
      "outputs": []
    },
    {
      "cell_type": "markdown",
      "metadata": {
        "id": "siHosl7mJGEa",
        "colab_type": "text"
      },
      "source": [
        "## to Drive\n",
        "\n",
        "To export an image to your Drive account, use `Export.image.toDrive()`. For example, to export portions of a Landsat image, define a region to export, then call `ee.batch.Export.image.toDrive`:"
      ]
    },
    {
      "cell_type": "code",
      "metadata": {
        "id": "fSqTvVdGHo2T",
        "colab_type": "code",
        "colab": {}
      },
      "source": [
        "# Export the image, specifying scale and region.\n",
        "task = ee.batch.Export.image.toDrive(**{\n",
        "    'image': landsat,\n",
        "    'description': 'pusgimageToDriveExample',\n",
        "    'folder':'Example_folder',\n",
        "    'scale': 100,\n",
        "    'region': geometry.getInfo()['coordinates']\n",
        "})\n",
        "task.start()"
      ],
      "execution_count": null,
      "outputs": []
    },
    {
      "cell_type": "code",
      "metadata": {
        "id": "Mzu9gkJiK0K7",
        "colab_type": "code",
        "colab": {
          "base_uri": "https://localhost:8080/",
          "height": 70
        },
        "outputId": "9d561f64-6b59-47a3-de66-5daa0e0f60aa"
      },
      "source": [
        "import time \n",
        "while task.active():\n",
        "  print('Polling for task (id: {}).'.format(task.id))\n",
        "  time.sleep(5)"
      ],
      "execution_count": null,
      "outputs": [
        {
          "output_type": "stream",
          "text": [
            "Polling for task (id: MOOS5RALE2PFLTEU4HXFRBVC).\n",
            "Polling for task (id: MOOS5RALE2PFLTEU4HXFRBVC).\n",
            "Polling for task (id: MOOS5RALE2PFLTEU4HXFRBVC).\n"
          ],
          "name": "stdout"
        }
      ]
    },
    {
      "cell_type": "markdown",
      "metadata": {
        "id": "Klwqb0soLos4",
        "colab_type": "text"
      },
      "source": [
        "## to Cloud Storage\n",
        "\n",
        "To export an image to a Google Cloud Storage bucket, use \n",
        "`ee.batch.Export.image.toCloudStorage()`. To export the Landsat image in the previous example to Cloud Storage instead of Drive, use:"
      ]
    },
    {
      "cell_type": "code",
      "metadata": {
        "id": "AlrN7x3LMC7S",
        "colab_type": "code",
        "colab": {}
      },
      "source": [
        "outputBucket = 'bag_csaybar' #Change for your Cloud Storage bucket\n",
        "\n",
        "# Export the image, specifying scale and region.\n",
        "task = ee.batch.Export.image.toCloudStorage(**{\n",
        "    'image': landsat,\n",
        "      'description': 'imageToCOGeoTiffExample',\n",
        "    'scale': 100,\n",
        "    'region': geometry.getInfo()['coordinates'],\n",
        "    'fileFormat': 'GeoTIFF',\n",
        "    'bucket': outputBucket,\n",
        "    'formatOptions': {'cloudOptimized': True}\n",
        "})\n",
        "task.start()"
      ],
      "execution_count": null,
      "outputs": []
    },
    {
      "cell_type": "code",
      "metadata": {
        "id": "D6HAvypAQS5O",
        "colab_type": "code",
        "colab": {}
      },
      "source": [
        "while task.active():\n",
        "  print('Polling for task (id: {}).'.format(task.id))\n",
        "  time.sleep(5)"
      ],
      "execution_count": null,
      "outputs": []
    },
    {
      "cell_type": "markdown",
      "metadata": {
        "id": "TWrU9EZRQxpa",
        "colab_type": "text"
      },
      "source": [
        "## to Asset\n",
        "To export an image to an asset in your Earth Engine assets folder, use `ee.batch.Export.image.toAsset()`. To manage your Earth Engine assets, or check how much of your storage quota is in use, use the [Asset Manager](https://developers.google.com/earth-engine/asset_manager). The following example illustrates exporting portions of a Landsat image using different pyramiding policies for the same band. The pyramiding policy indicates how Earth Engine computes lower-resolution versions of the asset. Learn more about how Earth Engine handles multiple resolutions in the [scale doc](https://developers.google.com/earth-engine/scale)."
      ]
    },
    {
      "cell_type": "code",
      "metadata": {
        "id": "krQburQ-SgZe",
        "colab_type": "code",
        "colab": {}
      },
      "source": [
        "# Get band 4 from the Landsat image, copy it.\n",
        "band4 = landsat.select('B4').rename('b4_mean')\\\n",
        "               .addBands(landsat.select('B4').rename('b4_sample'))\\\n",
        "               .addBands(landsat.select('B4').rename('b4_max'))\\\n",
        "\n",
        "# Export the image to an Earth Engine asset.\n",
        "task = ee.batch.Export.image.toAsset(**{\n",
        "  'image': band4,\n",
        "  'description': 'imageToAssetExample',\n",
        "  'assetId': 'users/csaybar/exampleExport',\n",
        "  'scale': 100,\n",
        "  'region': geometry.getInfo()['coordinates']\n",
        "})\n",
        "task.start()"
      ],
      "execution_count": null,
      "outputs": []
    },
    {
      "cell_type": "code",
      "metadata": {
        "id": "30TX7kJzSshY",
        "colab_type": "code",
        "colab": {
          "base_uri": "https://localhost:8080/",
          "height": 89
        },
        "outputId": "e75042e9-0c0a-4959-a082-8a0ec0ce40a8"
      },
      "source": [
        "while task.active():\n",
        "  print('Polling for task (id: {}).'.format(task.id))\n",
        "  time.sleep(5)"
      ],
      "execution_count": null,
      "outputs": [
        {
          "output_type": "stream",
          "text": [
            "Polling for task (id: NPJTL74EAHRDRAECPNW3KGIY).\n",
            "Polling for task (id: NPJTL74EAHRDRAECPNW3KGIY).\n",
            "Polling for task (id: NPJTL74EAHRDRAECPNW3KGIY).\n",
            "Polling for task (id: NPJTL74EAHRDRAECPNW3KGIY).\n"
          ],
          "name": "stdout"
        }
      ]
    },
    {
      "cell_type": "markdown",
      "metadata": {
        "id": "9_glXXPKUwg9",
        "colab_type": "text"
      },
      "source": [
        "You can provide a default pyramiding policy for every band that isn't explicitly specified by using the `'.default'` key. You may also pass in just the `'.default'` key. For example, to make all bands default to the 'sample' pyramiding policy, use `{'.default': 'sample'}`."
      ]
    },
    {
      "cell_type": "markdown",
      "metadata": {
        "id": "B2NDjS9yVIDm",
        "colab_type": "text"
      },
      "source": [
        "# 2. Exporting tables and vector data\n",
        "\n",
        "You can export a `FeatureCollection` as CSV, SHP (shapefile), GeoJSON, KML, KMZ or TFRecord using `Export.table`. The `FeatureCollection` may represent vectors or simply a table of data. In the latter case, the features in the collection will have null geometry.\n",
        "\n",
        "Note some additional constraints when working with some file formats, including:\n",
        "\n",
        "- KML: A `FeatureCollection` exported to a KML file will have all the geometries transformed to unprojected (WGS84) coordinates.\n",
        "\n",
        "- SHP: A `FeatureCollection` exported to a Shapefile must contain features with the same geometry type and projection and must fit within the [Shapefile size limits](https://desktop.arcgis.com/en/arcmap/latest/manage-data/shapefiles/geoprocessing-considerations-for-shapefile-output.htm). Column names are truncated to 10 characters or fewer, and this must not create duplicate column names.\n",
        "\n",
        "- TFRecord: A `FeatureCollection` exported to a TFRecord file will always be compressed with the GZIP compression type. You always get exactly one TFRecord file. All numbers are coerced to float type."
      ]
    },
    {
      "cell_type": "code",
      "metadata": {
        "id": "sAoKhH0PX9Mx",
        "colab_type": "code",
        "colab": {}
      },
      "source": [
        "# Make a collection of points.\n",
        "features = ee.FeatureCollection([ee.Feature(\n",
        "            ee.Geometry.Point([-96.03836059570312, 29.733377498237072]),\n",
        "            {\n",
        "              \"landcover\": 1,\n",
        "              \"system:index\": \"0\"\n",
        "            }),\n",
        "        ee.Feature(\n",
        "            ee.Geometry.Point([-96.02153778076172, 29.70415730620257]),\n",
        "            {\n",
        "              \"landcover\": 1,\n",
        "              \"system:index\": \"1\"\n",
        "            }),\n",
        "        ee.Feature(\n",
        "            ee.Geometry.Point([-95.8395767211914, 29.603013741043565]),\n",
        "            {\n",
        "              \"landcover\": 1,\n",
        "              \"system:index\": \"2\"\n",
        "            }),\n",
        "        ee.Feature(\n",
        "            ee.Geometry.Point([-95.87133407592773, 29.616296493159023]),\n",
        "            {\n",
        "              \"landcover\": 1,\n",
        "              \"system:index\": \"3\"\n",
        "            }),\n",
        "        ee.Feature(\n",
        "            ee.Geometry.Point([-95.66774368286133, 29.572561281277153]),\n",
        "            {\n",
        "              \"landcover\": 1,\n",
        "              \"system:index\": \"4\"\n",
        "            }),\n",
        "        ee.Feature(\n",
        "            ee.Geometry.Point([-95.64748764038086, 29.5583768530635]),\n",
        "            {\n",
        "              \"landcover\": 1,\n",
        "              \"system:index\": \"5\"\n",
        "            }),\n",
        "        ee.Feature(\n",
        "            ee.Geometry.Point([-95.6495475769043, 29.48772369705622]),\n",
        "            {\n",
        "              \"landcover\": 1,\n",
        "              \"system:index\": \"6\"\n",
        "            }),\n",
        "        ee.Feature(\n",
        "            ee.Geometry.Point([-95.64371109008789, 29.445278236181686]),\n",
        "            {\n",
        "              \"landcover\": 1,\n",
        "              \"system:index\": \"7\"\n",
        "            }),\n",
        "        ee.Feature(\n",
        "            ee.Geometry.Point([-95.7213020324707, 29.387858955310698]),\n",
        "            {\n",
        "              \"landcover\": 1,\n",
        "              \"system:index\": \"8\"\n",
        "            }),\n",
        "        ee.Feature(\n",
        "            ee.Geometry.Point([-95.71752548217773, 29.377837163511735]),\n",
        "            {\n",
        "              \"landcover\": 1,\n",
        "              \"system:index\": \"9\"\n",
        "            }),\n",
        "        ee.Feature(\n",
        "            ee.Geometry.Point([-96.09672546386719, 30.310689872356505]),\n",
        "            {\n",
        "              \"landcover\": 1,\n",
        "              \"system:index\": \"10\"\n",
        "            }),\n",
        "        ee.Feature(\n",
        "            ee.Geometry.Point([-96.09938621520996, 30.2996857382589]),\n",
        "            {\n",
        "              \"landcover\": 1,\n",
        "              \"system:index\": \"11\"\n",
        "            }),\n",
        "        ee.Feature(\n",
        "            ee.Geometry.Point([-96.08668327331543, 30.309689547574308]),\n",
        "            {\n",
        "              \"landcover\": 1,\n",
        "              \"system:index\": \"12\"\n",
        "            }),ee.Feature(\n",
        "            ee.Geometry.Point([-96.08513832092285, 30.374652388663186]),\n",
        "            {\n",
        "              \"landcover\": 0,\n",
        "              \"system:index\": \"0\"\n",
        "            }),\n",
        "        ee.Feature(\n",
        "            ee.Geometry.Point([-96.06831550598145, 30.37913227165939]),\n",
        "            {\n",
        "              \"landcover\": 0,\n",
        "              \"system:index\": \"1\"\n",
        "            }),\n",
        "        ee.Feature(\n",
        "            ee.Geometry.Point([-96.06973171234131, 30.37905822567535]),\n",
        "            {\n",
        "              \"landcover\": 0,\n",
        "              \"system:index\": \"2\"\n",
        "            }),\n",
        "        ee.Feature(\n",
        "            ee.Geometry.Point([-96.06428146362305, 30.380946380744856]),\n",
        "            {\n",
        "              \"landcover\": 0,\n",
        "              \"system:index\": \"3\"\n",
        "            }),\n",
        "        ee.Feature(\n",
        "            ee.Geometry.Point([-96.09028816223145, 30.359471093493593]),\n",
        "            {\n",
        "              \"landcover\": 0,\n",
        "              \"system:index\": \"4\"\n",
        "            }),\n",
        "        ee.Feature(\n",
        "            ee.Geometry.Point([-96.08153343200684, 30.365988230863266]),\n",
        "            {\n",
        "              \"landcover\": 0,\n",
        "              \"system:index\": \"5\"\n",
        "            }),\n",
        "        ee.Feature(\n",
        "            ee.Geometry.Point([-96.0890007019043, 30.38753612632244]),\n",
        "            {\n",
        "              \"landcover\": 0,\n",
        "              \"system:index\": \"6\"\n",
        "            }),\n",
        "        ee.Feature(\n",
        "            ee.Geometry.Point([-96.0670280456543, 30.401010402148156]),\n",
        "            {\n",
        "              \"landcover\": 0,\n",
        "              \"system:index\": \"7\"\n",
        "            }),\n",
        "        ee.Feature(\n",
        "            ee.Geometry.Point([-96.06925964355469, 30.398937557618673]),\n",
        "            {\n",
        "              \"landcover\": 0,\n",
        "              \"system:index\": \"8\"\n",
        "            }),\n",
        "        ee.Feature(\n",
        "            ee.Geometry.Point([-95.83442687988281, 29.733973740106062]),\n",
        "            {\n",
        "              \"landcover\": 0,\n",
        "              \"system:index\": \"9\"\n",
        "            }),\n",
        "        ee.Feature(\n",
        "            ee.Geometry.Point([-95.84060668945312, 29.743811219251754]),\n",
        "            {\n",
        "              \"landcover\": 0,\n",
        "              \"system:index\": \"10\"\n",
        "            }),\n",
        "        ee.Feature(\n",
        "            ee.Geometry.Point([-95.69572448730469, 29.765867512326544]),\n",
        "            {\n",
        "              \"landcover\": 0,\n",
        "              \"system:index\": \"11\"\n",
        "            }),\n",
        "        ee.Feature(\n",
        "            ee.Geometry.Point([-95.72181701660156, 29.774211870825713]),\n",
        "            {\n",
        "              \"landcover\": 0,\n",
        "              \"system:index\": \"12\"\n",
        "            }),\n",
        "        ee.Feature(\n",
        "            ee.Geometry.Point([-95.70422172546387, 29.783821922251498]),\n",
        "            {\n",
        "              \"landcover\": 0,\n",
        "              \"system:index\": \"13\"\n",
        "            }),\n",
        "        ee.Feature(\n",
        "            ee.Geometry.Point([-95.70868492126465, 29.785162786328367]),\n",
        "            {\n",
        "              \"landcover\": 0,\n",
        "              \"system:index\": \"14\"\n",
        "            }),\n",
        "        ee.Feature(\n",
        "            ee.Geometry.Point([-95.66122055053711, 29.78695057715931]),\n",
        "            {\n",
        "              \"landcover\": 0,\n",
        "              \"system:index\": \"15\"\n",
        "            }),\n",
        "        ee.Feature(\n",
        "            ee.Geometry.Point([-95.64345359802246, 29.779873718177605]),\n",
        "            {\n",
        "              \"landcover\": 0,\n",
        "              \"system:index\": \"16\"\n",
        "            }),\n",
        "        ee.Feature(\n",
        "            ee.Geometry.Point([-95.63701629638672, 29.784492356534923]),\n",
        "            {\n",
        "              \"landcover\": 0,\n",
        "              \"system:index\": \"17\"\n",
        "            }),\n",
        "        ee.Feature(\n",
        "            ee.Geometry.Point([-95.5422592163086, 29.787620990488936]),\n",
        "            {\n",
        "              \"landcover\": 0,\n",
        "              \"system:index\": \"18\"\n",
        "            }),\n",
        "        ee.Feature(\n",
        "            ee.Geometry.Point([-95.49179077148438, 29.795963536273014]),\n",
        "            {\n",
        "              \"landcover\": 0,\n",
        "              \"system:index\": \"19\"\n",
        "            }),\n",
        "        ee.Feature(\n",
        "            ee.Geometry.Point([-95.46672821044922, 29.817114730739224]),\n",
        "            {\n",
        "              \"landcover\": 0,\n",
        "              \"system:index\": \"20\"\n",
        "            }),\n",
        "        ee.Feature(\n",
        "            ee.Geometry.Point([-95.45402526855469, 29.79864492114661]),\n",
        "            {\n",
        "              \"landcover\": 0,\n",
        "              \"system:index\": \"21\"\n",
        "            }),\n",
        "        ee.Feature(\n",
        "            ee.Geometry.Point([-95.47565460205078, 29.729501839707396]),\n",
        "            {\n",
        "              \"landcover\": 0,\n",
        "              \"system:index\": \"22\"\n",
        "            }),\n",
        "        ee.Feature(\n",
        "            ee.Geometry.Point([-95.49556732177734, 29.71757579752616]),\n",
        "            {\n",
        "              \"landcover\": 0,\n",
        "              \"system:index\": \"23\"\n",
        "            }),ee.Feature(\n",
        "            ee.Geometry.Point([-96.5313720703125, 30.083354648756124]),\n",
        "            {\n",
        "              \"landcover\": 2,\n",
        "              \"system:index\": \"0\"\n",
        "            }),\n",
        "        ee.Feature(\n",
        "            ee.Geometry.Point([-96.66046142578125, 30.18787014479982]),\n",
        "            {\n",
        "              \"landcover\": 2,\n",
        "              \"system:index\": \"1\"\n",
        "            }),\n",
        "        ee.Feature(\n",
        "            ee.Geometry.Point([-97.239990234375, 29.75007093080679]),\n",
        "            {\n",
        "              \"landcover\": 2,\n",
        "              \"system:index\": \"2\"\n",
        "            }),\n",
        "        ee.Feature(\n",
        "            ee.Geometry.Point([-96.91314697265625, 29.609282224143133]),\n",
        "            {\n",
        "              \"landcover\": 2,\n",
        "              \"system:index\": \"3\"\n",
        "            }),\n",
        "        ee.Feature(\n",
        "            ee.Geometry.Point([-96.68792724609375, 29.82873108891454]),\n",
        "            {\n",
        "              \"landcover\": 2,\n",
        "              \"system:index\": \"4\"\n",
        "            }),\n",
        "        ee.Feature(\n",
        "            ee.Geometry.Point([-97.11090087890625, 29.88351825335318]),\n",
        "            {\n",
        "              \"landcover\": 2,\n",
        "              \"system:index\": \"5\"\n",
        "            }),\n",
        "        ee.Feature(\n",
        "            ee.Geometry.Point([-96.99554443359375, 30.099989515377835]),\n",
        "            {\n",
        "              \"landcover\": 2,\n",
        "              \"system:index\": \"6\"\n",
        "            }),\n",
        "        ee.Feature(\n",
        "            ee.Geometry.Point([-97.086181640625, 30.17837331070789]),\n",
        "            {\n",
        "              \"landcover\": 2,\n",
        "              \"system:index\": \"7\"\n",
        "            }),\n",
        "        ee.Feature(\n",
        "            ee.Geometry.Point([-96.53411865234375, 30.441570071519468]),\n",
        "            {\n",
        "              \"landcover\": 2,\n",
        "              \"system:index\": \"8\"\n",
        "            }),\n",
        "        ee.Feature(\n",
        "            ee.Geometry.Point([-95.86669921875, 30.642638258763267]),\n",
        "            {\n",
        "              \"landcover\": 2,\n",
        "              \"system:index\": \"9\"\n",
        "            }),\n",
        "        ee.Feature(\n",
        "            ee.Geometry.Point([-95.67718505859375, 30.694611546632277]),\n",
        "            {\n",
        "              \"landcover\": 2,\n",
        "              \"system:index\": \"10\"\n",
        "            }),\n",
        "        ee.Feature(\n",
        "            ee.Geometry.Point([-95.48492431640625, 30.52204730013766]),\n",
        "            {\n",
        "              \"landcover\": 2,\n",
        "              \"system:index\": \"11\"\n",
        "            }),\n",
        "        ee.Feature(\n",
        "            ee.Geometry.Point([-95.66619873046875, 30.524413269923986]),\n",
        "            {\n",
        "              \"landcover\": 2,\n",
        "              \"system:index\": \"12\"\n",
        "            }),\n",
        "        ee.Feature(\n",
        "            ee.Geometry.Point([-95.60302734375, 30.526779182105784]),\n",
        "            {\n",
        "              \"landcover\": 2,\n",
        "              \"system:index\": \"13\"\n",
        "            }),\n",
        "        ee.Feature(\n",
        "            ee.Geometry.Point([-95.38604736328125, 30.687525926582914]),\n",
        "            {\n",
        "              \"landcover\": 2,\n",
        "              \"system:index\": \"14\"\n",
        "            }),\n",
        "        ee.Feature(\n",
        "            ee.Geometry.Point([-95.95458984375, 30.26618407355883]),\n",
        "            {\n",
        "              \"landcover\": 2,\n",
        "              \"system:index\": \"15\"\n",
        "            }),\n",
        "        ee.Feature(\n",
        "            ee.Geometry.Point([-95.7564926147461, 30.257881008009875]),\n",
        "            {\n",
        "              \"landcover\": 2,\n",
        "              \"system:index\": \"16\"\n",
        "            }),\n",
        "        ee.Feature(\n",
        "            ee.Geometry.Point([-95.73554992675781, 30.25432233644344]),\n",
        "            {\n",
        "              \"landcover\": 2,\n",
        "              \"system:index\": \"17\"\n",
        "            })])\n",
        "center = features.geometry().centroid().getInfo()['coordinates']\n",
        "center.reverse()\n",
        "#Mapdisplay(center,{'feature_example':features.getInfo()},zoom_start=2)"
      ],
      "execution_count": null,
      "outputs": []
    },
    {
      "cell_type": "code",
      "metadata": {
        "id": "5VhMvaETVkXX",
        "colab_type": "code",
        "colab": {
          "base_uri": "https://localhost:8080/",
          "height": 685
        },
        "outputId": "3376e565-c470-4f4e-ba57-bf8e14c3e254"
      },
      "source": [
        "# Make a collection of points.\n",
        "water = ee.FeatureCollection([ee.Feature(\n",
        "            ee.Geometry.Point([-96.03836059570312, 29.733377498237072]),\n",
        "            {\n",
        "              \"landcover\": 1,\n",
        "              \"system:index\": \"0\"\n",
        "            }),\n",
        "        ee.Feature(\n",
        "            ee.Geometry.Point([-96.02153778076172, 29.70415730620257]),\n",
        "            {\n",
        "              \"landcover\": 1,\n",
        "              \"system:index\": \"1\"\n",
        "            }),\n",
        "        ee.Feature(\n",
        "            ee.Geometry.Point([-95.8395767211914, 29.603013741043565]),\n",
        "            {\n",
        "              \"landcover\": 1,\n",
        "              \"system:index\": \"2\"\n",
        "            }),\n",
        "        ee.Feature(\n",
        "            ee.Geometry.Point([-95.87133407592773, 29.616296493159023]),\n",
        "            {\n",
        "              \"landcover\": 1,\n",
        "              \"system:index\": \"3\"\n",
        "            }),\n",
        "        ee.Feature(\n",
        "            ee.Geometry.Point([-95.66774368286133, 29.572561281277153]),\n",
        "            {\n",
        "              \"landcover\": 1,\n",
        "              \"system:index\": \"4\"\n",
        "            }),\n",
        "        ee.Feature(\n",
        "            ee.Geometry.Point([-95.64748764038086, 29.5583768530635]),\n",
        "            {\n",
        "              \"landcover\": 1,\n",
        "              \"system:index\": \"5\"\n",
        "            }),\n",
        "        ee.Feature(\n",
        "            ee.Geometry.Point([-95.6495475769043, 29.48772369705622]),\n",
        "            {\n",
        "              \"landcover\": 1,\n",
        "              \"system:index\": \"6\"\n",
        "            }),\n",
        "        ee.Feature(\n",
        "            ee.Geometry.Point([-95.64371109008789, 29.445278236181686]),\n",
        "            {\n",
        "              \"landcover\": 1,\n",
        "              \"system:index\": \"7\"\n",
        "            }),\n",
        "        ee.Feature(\n",
        "            ee.Geometry.Point([-95.7213020324707, 29.387858955310698]),\n",
        "            {\n",
        "              \"landcover\": 1,\n",
        "              \"system:index\": \"8\"\n",
        "            }),\n",
        "        ee.Feature(\n",
        "            ee.Geometry.Point([-95.71752548217773, 29.377837163511735]),\n",
        "            {\n",
        "              \"landcover\": 1,\n",
        "              \"system:index\": \"9\"\n",
        "            }),\n",
        "        ee.Feature(\n",
        "            ee.Geometry.Point([-96.09672546386719, 30.310689872356505]),\n",
        "            {\n",
        "              \"landcover\": 1,\n",
        "              \"system:index\": \"10\"\n",
        "            }),\n",
        "        ee.Feature(\n",
        "            ee.Geometry.Point([-96.09938621520996, 30.2996857382589]),\n",
        "            {\n",
        "              \"landcover\": 1,\n",
        "              \"system:index\": \"11\"\n",
        "            }),\n",
        "        ee.Feature(\n",
        "            ee.Geometry.Point([-96.08668327331543, 30.309689547574308]),\n",
        "            {\n",
        "              \"landcover\": 1,\n",
        "              \"system:index\": \"12\"\n",
        "            })])\n",
        "center = water.geometry().centroid().getInfo()['coordinates']\n",
        "center.reverse()\n",
        "Mapdisplay(center,{'feature_example':water.getInfo()},zoom_start=2)"
      ],
      "execution_count": null,
      "outputs": [
        {
          "output_type": "execute_result",
          "data": {
            "text/html": [
              "<div style=\"width:100%;\"><div style=\"position:relative;width:100%;height:0;padding-bottom:60%;\"><span style=\"color:#565656\">Make this Notebook Trusted to load map: File -> Trust Notebook</span><iframe src=\"about:blank\" style=\"position:absolute;width:100%;height:100%;left:0;top:0;border:none !important;\" data-html=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 onload=\"this.contentDocument.open();this.contentDocument.write(atob(this.getAttribute('data-html')));this.contentDocument.close();\" allowfullscreen webkitallowfullscreen mozallowfullscreen></iframe></div></div>"
            ],
            "text/plain": [
              "<folium.folium.Map at 0x7ff5a3e14f28>"
            ]
          },
          "metadata": {
            "tags": []
          },
          "execution_count": 12
        }
      ]
    },
    {
      "cell_type": "markdown",
      "metadata": {
        "id": "aiREOJ52Vo0N",
        "colab_type": "text"
      },
      "source": [
        "## to Drive\n",
        "To export a FeatureCollection to your Drive account, use \n",
        "ee.batch.Export.table.toDrive(). For example:\n",
        "\n"
      ]
    },
    {
      "cell_type": "code",
      "metadata": {
        "id": "ZuOMX_9rVpXP",
        "colab_type": "code",
        "colab": {}
      },
      "source": [
        "# Export the FeatureCollection to a KML file.\n",
        "task = ee.batch.Export.table.toDrive(**{\n",
        "  'collection': features,\n",
        "  'description':'featuresvectorsToDrive',\n",
        "  'fileFormat': 'SHP'\n",
        "})\n",
        "task.start()"
      ],
      "execution_count": null,
      "outputs": []
    },
    {
      "cell_type": "code",
      "metadata": {
        "id": "aHXSCUiXXtLY",
        "colab_type": "code",
        "colab": {}
      },
      "source": [
        "import time\n",
        "while task.active():\n",
        "  print('Polling for task (id: {}).'.format(task.id))\n",
        "  time.sleep(5)"
      ],
      "execution_count": null,
      "outputs": []
    },
    {
      "cell_type": "code",
      "metadata": {
        "id": "nXrS5BI80E6_",
        "colab_type": "code",
        "colab": {}
      },
      "source": [
        ""
      ],
      "execution_count": null,
      "outputs": []
    },
    {
      "cell_type": "code",
      "metadata": {
        "colab_type": "code",
        "id": "VTa5s-SH0FW8",
        "colab": {
          "base_uri": "https://localhost:8080/",
          "height": 685
        },
        "outputId": "632bdaad-506a-4868-b06f-584f0c916f40"
      },
      "source": [
        "# Make a collection of points.\n",
        "urban = ee.FeatureCollection([ee.Feature(\n",
        "            ee.Geometry.Point([-96.08513832092285, 30.374652388663186]),\n",
        "            {\n",
        "              \"landcover\": 0,\n",
        "              \"system:index\": \"0\"\n",
        "            }),\n",
        "        ee.Feature(\n",
        "            ee.Geometry.Point([-96.06831550598145, 30.37913227165939]),\n",
        "            {\n",
        "              \"landcover\": 0,\n",
        "              \"system:index\": \"1\"\n",
        "            }),\n",
        "        ee.Feature(\n",
        "            ee.Geometry.Point([-96.06973171234131, 30.37905822567535]),\n",
        "            {\n",
        "              \"landcover\": 0,\n",
        "              \"system:index\": \"2\"\n",
        "            }),\n",
        "        ee.Feature(\n",
        "            ee.Geometry.Point([-96.06428146362305, 30.380946380744856]),\n",
        "            {\n",
        "              \"landcover\": 0,\n",
        "              \"system:index\": \"3\"\n",
        "            }),\n",
        "        ee.Feature(\n",
        "            ee.Geometry.Point([-96.09028816223145, 30.359471093493593]),\n",
        "            {\n",
        "              \"landcover\": 0,\n",
        "              \"system:index\": \"4\"\n",
        "            }),\n",
        "        ee.Feature(\n",
        "            ee.Geometry.Point([-96.08153343200684, 30.365988230863266]),\n",
        "            {\n",
        "              \"landcover\": 0,\n",
        "              \"system:index\": \"5\"\n",
        "            }),\n",
        "        ee.Feature(\n",
        "            ee.Geometry.Point([-96.0890007019043, 30.38753612632244]),\n",
        "            {\n",
        "              \"landcover\": 0,\n",
        "              \"system:index\": \"6\"\n",
        "            }),\n",
        "        ee.Feature(\n",
        "            ee.Geometry.Point([-96.0670280456543, 30.401010402148156]),\n",
        "            {\n",
        "              \"landcover\": 0,\n",
        "              \"system:index\": \"7\"\n",
        "            }),\n",
        "        ee.Feature(\n",
        "            ee.Geometry.Point([-96.06925964355469, 30.398937557618673]),\n",
        "            {\n",
        "              \"landcover\": 0,\n",
        "              \"system:index\": \"8\"\n",
        "            }),\n",
        "        ee.Feature(\n",
        "            ee.Geometry.Point([-95.83442687988281, 29.733973740106062]),\n",
        "            {\n",
        "              \"landcover\": 0,\n",
        "              \"system:index\": \"9\"\n",
        "            }),\n",
        "        ee.Feature(\n",
        "            ee.Geometry.Point([-95.84060668945312, 29.743811219251754]),\n",
        "            {\n",
        "              \"landcover\": 0,\n",
        "              \"system:index\": \"10\"\n",
        "            }),\n",
        "        ee.Feature(\n",
        "            ee.Geometry.Point([-95.69572448730469, 29.765867512326544]),\n",
        "            {\n",
        "              \"landcover\": 0,\n",
        "              \"system:index\": \"11\"\n",
        "            }),\n",
        "        ee.Feature(\n",
        "            ee.Geometry.Point([-95.72181701660156, 29.774211870825713]),\n",
        "            {\n",
        "              \"landcover\": 0,\n",
        "              \"system:index\": \"12\"\n",
        "            }),\n",
        "        ee.Feature(\n",
        "            ee.Geometry.Point([-95.70422172546387, 29.783821922251498]),\n",
        "            {\n",
        "              \"landcover\": 0,\n",
        "              \"system:index\": \"13\"\n",
        "            }),\n",
        "        ee.Feature(\n",
        "            ee.Geometry.Point([-95.70868492126465, 29.785162786328367]),\n",
        "            {\n",
        "              \"landcover\": 0,\n",
        "              \"system:index\": \"14\"\n",
        "            }),\n",
        "        ee.Feature(\n",
        "            ee.Geometry.Point([-95.66122055053711, 29.78695057715931]),\n",
        "            {\n",
        "              \"landcover\": 0,\n",
        "              \"system:index\": \"15\"\n",
        "            }),\n",
        "        ee.Feature(\n",
        "            ee.Geometry.Point([-95.64345359802246, 29.779873718177605]),\n",
        "            {\n",
        "              \"landcover\": 0,\n",
        "              \"system:index\": \"16\"\n",
        "            }),\n",
        "        ee.Feature(\n",
        "            ee.Geometry.Point([-95.63701629638672, 29.784492356534923]),\n",
        "            {\n",
        "              \"landcover\": 0,\n",
        "              \"system:index\": \"17\"\n",
        "            }),\n",
        "        ee.Feature(\n",
        "            ee.Geometry.Point([-95.5422592163086, 29.787620990488936]),\n",
        "            {\n",
        "              \"landcover\": 0,\n",
        "              \"system:index\": \"18\"\n",
        "            }),\n",
        "        ee.Feature(\n",
        "            ee.Geometry.Point([-95.49179077148438, 29.795963536273014]),\n",
        "            {\n",
        "              \"landcover\": 0,\n",
        "              \"system:index\": \"19\"\n",
        "            }),\n",
        "        ee.Feature(\n",
        "            ee.Geometry.Point([-95.46672821044922, 29.817114730739224]),\n",
        "            {\n",
        "              \"landcover\": 0,\n",
        "              \"system:index\": \"20\"\n",
        "            }),\n",
        "        ee.Feature(\n",
        "            ee.Geometry.Point([-95.45402526855469, 29.79864492114661]),\n",
        "            {\n",
        "              \"landcover\": 0,\n",
        "              \"system:index\": \"21\"\n",
        "            }),\n",
        "        ee.Feature(\n",
        "            ee.Geometry.Point([-95.47565460205078, 29.729501839707396]),\n",
        "            {\n",
        "              \"landcover\": 0,\n",
        "              \"system:index\": \"22\"\n",
        "            }),\n",
        "        ee.Feature(\n",
        "            ee.Geometry.Point([-95.49556732177734, 29.71757579752616]),\n",
        "            {\n",
        "              \"landcover\": 0,\n",
        "              \"system:index\": \"23\"\n",
        "            })])\n",
        "center = urban.geometry().centroid().getInfo()['coordinates']\n",
        "center.reverse()\n",
        "Mapdisplay(center,{'feature_example':urban.getInfo()},zoom_start=2)"
      ],
      "execution_count": null,
      "outputs": [
        {
          "output_type": "execute_result",
          "data": {
            "text/html": [
              "<div style=\"width:100%;\"><div style=\"position:relative;width:100%;height:0;padding-bottom:60%;\"><span style=\"color:#565656\">Make this Notebook Trusted to load map: File -> Trust Notebook</span><iframe src=\"about:blank\" style=\"position:absolute;width:100%;height:100%;left:0;top:0;border:none !important;\" data-html=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 onload=\"this.contentDocument.open();this.contentDocument.write(atob(this.getAttribute('data-html')));this.contentDocument.close();\" allowfullscreen webkitallowfullscreen mozallowfullscreen></iframe></div></div>"
            ],
            "text/plain": [
              "<folium.folium.Map at 0x7ff5a3e0c940>"
            ]
          },
          "metadata": {
            "tags": []
          },
          "execution_count": 15
        }
      ]
    },
    {
      "cell_type": "code",
      "metadata": {
        "id": "mws8ThGS00BT",
        "colab_type": "code",
        "colab": {}
      },
      "source": [
        ""
      ],
      "execution_count": null,
      "outputs": []
    },
    {
      "cell_type": "code",
      "metadata": {
        "colab_type": "code",
        "id": "OLBMyMar00kJ",
        "colab": {
          "base_uri": "https://localhost:8080/",
          "height": 685
        },
        "outputId": "79fa921e-80d7-442e-d020-8b0a629906a4"
      },
      "source": [
        "# Make a collection of points.\n",
        "forest = ee.FeatureCollection([ee.Feature(\n",
        "            ee.Geometry.Point([-96.5313720703125, 30.083354648756124]),\n",
        "            {\n",
        "              \"landcover\": 2,\n",
        "              \"system:index\": \"0\"\n",
        "            }),\n",
        "        ee.Feature(\n",
        "            ee.Geometry.Point([-96.66046142578125, 30.18787014479982]),\n",
        "            {\n",
        "              \"landcover\": 2,\n",
        "              \"system:index\": \"1\"\n",
        "            }),\n",
        "        ee.Feature(\n",
        "            ee.Geometry.Point([-97.239990234375, 29.75007093080679]),\n",
        "            {\n",
        "              \"landcover\": 2,\n",
        "              \"system:index\": \"2\"\n",
        "            }),\n",
        "        ee.Feature(\n",
        "            ee.Geometry.Point([-96.91314697265625, 29.609282224143133]),\n",
        "            {\n",
        "              \"landcover\": 2,\n",
        "              \"system:index\": \"3\"\n",
        "            }),\n",
        "        ee.Feature(\n",
        "            ee.Geometry.Point([-96.68792724609375, 29.82873108891454]),\n",
        "            {\n",
        "              \"landcover\": 2,\n",
        "              \"system:index\": \"4\"\n",
        "            }),\n",
        "        ee.Feature(\n",
        "            ee.Geometry.Point([-97.11090087890625, 29.88351825335318]),\n",
        "            {\n",
        "              \"landcover\": 2,\n",
        "              \"system:index\": \"5\"\n",
        "            }),\n",
        "        ee.Feature(\n",
        "            ee.Geometry.Point([-96.99554443359375, 30.099989515377835]),\n",
        "            {\n",
        "              \"landcover\": 2,\n",
        "              \"system:index\": \"6\"\n",
        "            }),\n",
        "        ee.Feature(\n",
        "            ee.Geometry.Point([-97.086181640625, 30.17837331070789]),\n",
        "            {\n",
        "              \"landcover\": 2,\n",
        "              \"system:index\": \"7\"\n",
        "            }),\n",
        "        ee.Feature(\n",
        "            ee.Geometry.Point([-96.53411865234375, 30.441570071519468]),\n",
        "            {\n",
        "              \"landcover\": 2,\n",
        "              \"system:index\": \"8\"\n",
        "            }),\n",
        "        ee.Feature(\n",
        "            ee.Geometry.Point([-95.86669921875, 30.642638258763267]),\n",
        "            {\n",
        "              \"landcover\": 2,\n",
        "              \"system:index\": \"9\"\n",
        "            }),\n",
        "        ee.Feature(\n",
        "            ee.Geometry.Point([-95.67718505859375, 30.694611546632277]),\n",
        "            {\n",
        "              \"landcover\": 2,\n",
        "              \"system:index\": \"10\"\n",
        "            }),\n",
        "        ee.Feature(\n",
        "            ee.Geometry.Point([-95.48492431640625, 30.52204730013766]),\n",
        "            {\n",
        "              \"landcover\": 2,\n",
        "              \"system:index\": \"11\"\n",
        "            }),\n",
        "        ee.Feature(\n",
        "            ee.Geometry.Point([-95.66619873046875, 30.524413269923986]),\n",
        "            {\n",
        "              \"landcover\": 2,\n",
        "              \"system:index\": \"12\"\n",
        "            }),\n",
        "        ee.Feature(\n",
        "            ee.Geometry.Point([-95.60302734375, 30.526779182105784]),\n",
        "            {\n",
        "              \"landcover\": 2,\n",
        "              \"system:index\": \"13\"\n",
        "            }),\n",
        "        ee.Feature(\n",
        "            ee.Geometry.Point([-95.38604736328125, 30.687525926582914]),\n",
        "            {\n",
        "              \"landcover\": 2,\n",
        "              \"system:index\": \"14\"\n",
        "            }),\n",
        "        ee.Feature(\n",
        "            ee.Geometry.Point([-95.95458984375, 30.26618407355883]),\n",
        "            {\n",
        "              \"landcover\": 2,\n",
        "              \"system:index\": \"15\"\n",
        "            }),\n",
        "        ee.Feature(\n",
        "            ee.Geometry.Point([-95.7564926147461, 30.257881008009875]),\n",
        "            {\n",
        "              \"landcover\": 2,\n",
        "              \"system:index\": \"16\"\n",
        "            }),\n",
        "        ee.Feature(\n",
        "            ee.Geometry.Point([-95.73554992675781, 30.25432233644344]),\n",
        "            {\n",
        "              \"landcover\": 2,\n",
        "              \"system:index\": \"17\"\n",
        "            })])\n",
        "center = forest.geometry().centroid().getInfo()['coordinates']\n",
        "center.reverse()\n",
        "Mapdisplay(center,{'feature_example':forest.getInfo()},zoom_start=2)"
      ],
      "execution_count": null,
      "outputs": [
        {
          "output_type": "execute_result",
          "data": {
            "text/html": [
              "<div style=\"width:100%;\"><div style=\"position:relative;width:100%;height:0;padding-bottom:60%;\"><span style=\"color:#565656\">Make this Notebook Trusted to load map: File -> Trust Notebook</span><iframe src=\"about:blank\" style=\"position:absolute;width:100%;height:100%;left:0;top:0;border:none !important;\" data-html=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 onload=\"this.contentDocument.open();this.contentDocument.write(atob(this.getAttribute('data-html')));this.contentDocument.close();\" allowfullscreen webkitallowfullscreen mozallowfullscreen></iframe></div></div>"
            ],
            "text/plain": [
              "<folium.folium.Map at 0x7ff5a3f1a3c8>"
            ]
          },
          "metadata": {
            "tags": []
          },
          "execution_count": 18
        }
      ]
    },
    {
      "cell_type": "markdown",
      "metadata": {
        "id": "5UqUnikUYLms",
        "colab_type": "text"
      },
      "source": [
        "## to Cloud Storage\n",
        "\n",
        "To export a `FeatureCollection` to Cloud Storage, use ee.batch.Export.table.toCloudStorage(). For example, using the features defined previously:\n",
        "\n"
      ]
    },
    {
      "cell_type": "code",
      "metadata": {
        "id": "BEtZ8ct0YXYk",
        "colab_type": "code",
        "colab": {}
      },
      "source": [
        "outputBucket = 'bag_csaybar' #Change for your Cloud Storage bucket\n",
        "\n",
        "# Export a KML file to Cloud Storage.\n",
        "task = ee.batch.Export.table.toCloudStorage(**{\n",
        "  'collection': features,\n",
        "  'description':'vectorsToCloudStorageExample',\n",
        "  'bucket': outputBucket,\n",
        "  'fileNamePrefix': 'exampleTableExport',\n",
        "  'fileFormat': 'KML'    \n",
        "})\n",
        "\n",
        "task.start()"
      ],
      "execution_count": null,
      "outputs": []
    },
    {
      "cell_type": "code",
      "metadata": {
        "id": "njKq3leXZB8o",
        "colab_type": "code",
        "colab": {
          "base_uri": "https://localhost:8080/",
          "height": 35
        },
        "outputId": "305691c6-dc9e-400b-e562-72648fd827f6"
      },
      "source": [
        "while task.active():\n",
        "  print('Polling for task (id: {}).'.format(task.id))\n",
        "  time.sleep(5)"
      ],
      "execution_count": null,
      "outputs": [
        {
          "output_type": "stream",
          "text": [
            "Polling for task (id: RYELOVWIMRPQC45R3OHDGV3Z).\n"
          ],
          "name": "stdout"
        }
      ]
    },
    {
      "cell_type": "markdown",
      "metadata": {
        "id": "CVwF_khsatOS",
        "colab_type": "text"
      },
      "source": [
        "## to Asset\n",
        "To export a FeatureCollection as an Earth Engine asset, use `ee.batch.Export.table.toAsset()`. For example, using the features defined previously:"
      ]
    },
    {
      "cell_type": "code",
      "metadata": {
        "id": "-JTNZNT8auuD",
        "colab_type": "code",
        "colab": {}
      },
      "source": [
        "# Export an ee.FeatureCollection as an Earth Engine asset.\n",
        "task = ee.batch.Export.table.toAsset(**{\n",
        "    'collection': features,\n",
        "    'description':'exportToTableAssetExample',\n",
        "    'assetId': 'users/csaybar/exampleExport'\n",
        "})\n",
        "task.start()"
      ],
      "execution_count": null,
      "outputs": []
    },
    {
      "cell_type": "code",
      "metadata": {
        "id": "ALCjSERPbWbL",
        "colab_type": "code",
        "colab": {
          "base_uri": "https://localhost:8080/",
          "height": 89
        },
        "outputId": "0d9ac78d-d4f7-423d-80a0-fa6df5ab722d"
      },
      "source": [
        "while task.active():\n",
        "  print('Polling for task (id: {}).'.format(task.id))\n",
        "  time.sleep(5)"
      ],
      "execution_count": null,
      "outputs": [
        {
          "output_type": "stream",
          "text": [
            "Polling for task (id: 2Y6LO3NGZAVXFS55QFZODUIO).\n",
            "Polling for task (id: 2Y6LO3NGZAVXFS55QFZODUIO).\n",
            "Polling for task (id: 2Y6LO3NGZAVXFS55QFZODUIO).\n",
            "Polling for task (id: 2Y6LO3NGZAVXFS55QFZODUIO).\n"
          ],
          "name": "stdout"
        }
      ]
    },
    {
      "cell_type": "markdown",
      "metadata": {
        "id": "Ym3RcAfzbYwT",
        "colab_type": "text"
      },
      "source": [
        "There are several limitations on the size and shape of Earth Engine table assets:\n",
        "\n",
        "- Maximum of 100 million features\n",
        "\n",
        "- Maximum of 1000 properties (columns)\n",
        "\n",
        "- Maximum of 100,000 vertices for each row's geometry\n",
        "\n",
        "- Maximum of 100,000 characters per string value"
      ]
    },
    {
      "cell_type": "markdown",
      "metadata": {
        "id": "jj0ZZfj2bjNP",
        "colab_type": "text"
      },
      "source": [
        "# 3. Exporting video\n",
        "\n",
        "To export ordered image collections as video, where frames are defined by images in the collection, use `Export.video()`. You can configure the way the `ImageCollection` is turned into video by setting frame rate, scale and dimensions. The video will be encoded as an MP4."
      ]
    },
    {
      "cell_type": "code",
      "metadata": {
        "id": "aUlrKybYdzft",
        "colab_type": "code",
        "colab": {
          "base_uri": "https://localhost:8080/",
          "height": 559
        },
        "outputId": "dcba640f-69c8-49aa-bee0-4e80191a0a4b"
      },
      "source": [
        "# Load a Landsat 5 image collection.\n",
        "# 1. San Francisco Bay.\n",
        "# 2. Filter cloudy scenes.\n",
        "# 3. Get 20 years of imagery.\n",
        "# 4. Need to have 3-band imagery for the video.\n",
        "# 5. Need to make the data 8-bit.\n",
        "collection = ee.ImageCollection('LANDSAT/LT05/C01/T1_TOA')\\\n",
        "               .filter(ee.Filter.eq('WRS_PATH', 44))\\\n",
        "               .filter(ee.Filter.eq('WRS_ROW', 34))\\\n",
        "               .filter(ee.Filter.lt('CLOUD_COVER', 30))\\\n",
        "               .filterDate('1991-01-01','2011-12-30')\\\n",
        "               .select(['B4', 'B3', 'B2'])\\\n",
        "               .map(lambda img:img.multiply(512).uint8())\n",
        "\n",
        "# Define an area to export.\n",
        "polygon = ee.Geometry.Rectangle([-122.7286, 37.6325, -122.0241, 37.9592]);\n",
        "center = polygon.centroid().getInfo()['coordinates']\n",
        "center.reverse()\n",
        "Mapdisplay(center,{'SF LANDSAT':collection.first().getMapId()})"
      ],
      "execution_count": null,
      "outputs": [
        {
          "output_type": "execute_result",
          "data": {
            "text/html": [
              "<div style=\"width:100%;\"><div style=\"position:relative;width:100%;height:0;padding-bottom:60%;\"><iframe src=\"data:text/html;charset=utf-8;base64,PCFET0NUWVBFIGh0bWw+CjxoZWFkPiAgICAKICAgIDxtZXRhIGh0dHAtZXF1aXY9ImNvbnRlbnQtdHlwZSIgY29udGVudD0idGV4dC9odG1sOyBjaGFyc2V0PVVURi04IiAvPgogICAgPHNjcmlwdD5MX1BSRUZFUl9DQU5WQVM9ZmFsc2U7IExfTk9fVE9VQ0g9ZmFsc2U7IExfRElTQUJMRV8zRD1mYWxzZTs8L3NjcmlwdD4KICAgIDxzY3JpcHQgc3JjPSJodHRwczovL2Nkbi5qc2RlbGl2ci5uZXQvbnBtL2xlYWZsZXRAMS40LjAvZGlzdC9sZWFmbGV0LmpzIj48L3NjcmlwdD4KICAgIDxzY3JpcHQgc3JjPSJodHRwczovL2NvZGUuanF1ZXJ5LmNvbS9qcXVlcnktMS4xMi40Lm1pbi5qcyI+PC9zY3JpcHQ+CiAgICA8c2NyaXB0IHNyYz0iaHR0cHM6Ly9tYXhjZG4uYm9vdHN0cmFwY2RuLmNvbS9ib290c3RyYXAvMy4yLjAvanMvYm9vdHN0cmFwLm1pbi5qcyI+PC9zY3JpcHQ+CiAgICA8c2NyaXB0IHNyYz0iaHR0cHM6Ly9jZG5qcy5jbG91ZGZsYXJlLmNvbS9hamF4L2xpYnMvTGVhZmxldC5hd2Vzb21lLW1hcmtlcnMvMi4wLjIvbGVhZmxldC5hd2Vzb21lLW1hcmtlcnMuanMiPjwvc2NyaXB0PgogICAgPGxpbmsgcmVsPSJzdHlsZXNoZWV0IiBocmVmPSJodHRwczovL2Nkbi5qc2RlbGl2ci5uZXQvbnBtL2xlYWZsZXRAMS40LjAvZGlzdC9sZWFmbGV0LmNzcyIvPgogICAgPGxpbmsgcmVsPSJzdHlsZXNoZWV0IiBocmVmPSJodHRwczovL21heGNkbi5ib290c3RyYXBjZG4uY29tL2Jvb3RzdHJhcC8zLjIuMC9jc3MvYm9vdHN0cmFwLm1pbi5jc3MiLz4KICAgIDxsaW5rIHJlbD0ic3R5bGVzaGVldCIgaHJlZj0iaHR0cHM6Ly9tYXhjZG4uYm9vdHN0cmFwY2RuLmNvbS9ib290c3RyYXAvMy4yLjAvY3NzL2Jvb3RzdHJhcC10aGVtZS5taW4uY3NzIi8+CiAgICA8bGluayByZWw9InN0eWxlc2hlZXQiIGhyZWY9Imh0dHBzOi8vbWF4Y2RuLmJvb3RzdHJhcGNkbi5jb20vZm9udC1hd2Vzb21lLzQuNi4zL2Nzcy9mb250LWF3ZXNvbWUubWluLmNzcyIvPgogICAgPGxpbmsgcmVsPSJzdHlsZXNoZWV0IiBocmVmPSJodHRwczovL2NkbmpzLmNsb3VkZmxhcmUuY29tL2FqYXgvbGlicy9MZWFmbGV0LmF3ZXNvbWUtbWFya2Vycy8yLjAuMi9sZWFmbGV0LmF3ZXNvbWUtbWFya2Vycy5jc3MiLz4KICAgIDxsaW5rIHJlbD0ic3R5bGVzaGVldCIgaHJlZj0iaHR0cHM6Ly9yYXdjZG4uZ2l0aGFjay5jb20vcHl0aG9uLXZpc3VhbGl6YXRpb24vZm9saXVtL21hc3Rlci9mb2xpdW0vdGVtcGxhdGVzL2xlYWZsZXQuYXdlc29tZS5yb3RhdGUuY3NzIi8+CiAgICA8c3R5bGU+aHRtbCwgYm9keSB7d2lkdGg6IDEwMCU7aGVpZ2h0OiAxMDAlO21hcmdpbjogMDtwYWRkaW5nOiAwO308L3N0eWxlPgogICAgPHN0eWxlPiNtYXAge3Bvc2l0aW9uOmFic29sdXRlO3RvcDowO2JvdHRvbTowO3JpZ2h0OjA7bGVmdDowO308L3N0eWxlPgogICAgCiAgICA8bWV0YSBuYW1lPSJ2aWV3cG9ydCIgY29udGVudD0id2lkdGg9ZGV2aWNlLXdpZHRoLAogICAgICAgIGluaXRpYWwtc2NhbGU9MS4wLCBtYXhpbXVtLXNjYWxlPTEuMCwgdXNlci1zY2FsYWJsZT1ubyIgLz4KICAgIDxzdHlsZT4jbWFwXzg2MWU1NmU0NzRlNjQ5OWU5ZWU3MGFmZDA2MzJhYTczIHsKICAgICAgICBwb3NpdGlvbjogcmVsYXRpdmU7CiAgICAgICAgd2lkdGg6IDEwMC4wJTsKICAgICAgICBoZWlnaHQ6IDEwMC4wJTsKICAgICAgICBsZWZ0OiAwLjAlOwogICAgICAgIHRvcDogMC4wJTsKICAgICAgICB9CiAgICA8L3N0eWxlPgo8L2hlYWQ+Cjxib2R5PiAgICAKICAgIAogICAgPGRpdiBjbGFzcz0iZm9saXVtLW1hcCIgaWQ9Im1hcF84NjFlNTZlNDc0ZTY0OTllOWVlNzBhZmQwNjMyYWE3MyIgPjwvZGl2Pgo8L2JvZHk+CjxzY3JpcHQ+ICAgIAogICAgCiAgICAKICAgICAgICB2YXIgYm91bmRzID0gbnVsbDsKICAgIAoKICAgIHZhciBtYXBfODYxZTU2ZTQ3NGU2NDk5ZTllZTcwYWZkMDYzMmFhNzMgPSBMLm1hcCgKICAgICAgICAnbWFwXzg2MWU1NmU0NzRlNjQ5OWU5ZWU3MGFmZDA2MzJhYTczJywgewogICAgICAgIGNlbnRlcjogWzM3Ljc5NjI1Mzk3MzEyMjg5NCwgLTEyMi4zNzYzNTAwMDAwMDAyNF0sCiAgICAgICAgem9vbTogMTAsCiAgICAgICAgbWF4Qm91bmRzOiBib3VuZHMsCiAgICAgICAgbGF5ZXJzOiBbXSwKICAgICAgICB3b3JsZENvcHlKdW1wOiBmYWxzZSwKICAgICAgICBjcnM6IEwuQ1JTLkVQU0czODU3LAogICAgICAgIHpvb21Db250cm9sOiB0cnVlLAogICAgICAgIH0pOwoKCiAgICAKICAgIHZhciB0aWxlX2xheWVyX2EzOTVhYTQ5MmFhNTRlMzliYWIyYjU1NTkwNTU3MTFjID0gTC50aWxlTGF5ZXIoCiAgICAgICAgJ2h0dHBzOi8ve3N9LnRpbGUub3BlbnN0cmVldG1hcC5vcmcve3p9L3t4fS97eX0ucG5nJywKICAgICAgICB7CiAgICAgICAgImF0dHJpYnV0aW9uIjogbnVsbCwKICAgICAgICAiZGV0ZWN0UmV0aW5hIjogZmFsc2UsCiAgICAgICAgIm1heE5hdGl2ZVpvb20iOiAxOCwKICAgICAgICAibWF4Wm9vbSI6IDE4LAogICAgICAgICJtaW5ab29tIjogMCwKICAgICAgICAibm9XcmFwIjogZmFsc2UsCiAgICAgICAgIm9wYWNpdHkiOiAxLAogICAgICAgICJzdWJkb21haW5zIjogImFiYyIsCiAgICAgICAgInRtcyI6IGZhbHNlCn0pLmFkZFRvKG1hcF84NjFlNTZlNDc0ZTY0OTllOWVlNzBhZmQwNjMyYWE3Myk7CiAgICB2YXIgdGlsZV9sYXllcl81N2UyMzFmMDRhMGQ0YWZiOGQ4NDJjYzE0ZjZiNzNmYyA9IEwudGlsZUxheWVyKAogICAgICAgICdodHRwczovL2VhcnRoZW5naW5lLmdvb2dsZWFwaXMuY29tL21hcC80ZWVmZDNjY2JhMGVmZjM4NjA0NjVjNTMwN2JiZGMwOC97en0ve3h9L3t5fT90b2tlbj0xMTA0ODUyZGYzODVjYTAwN2Q4YTc1MDZhYWI0MDNkMycsCiAgICAgICAgewogICAgICAgICJhdHRyaWJ1dGlvbiI6ICJHb29nbGUgRWFydGggRW5naW5lIiwKICAgICAgICAiZGV0ZWN0UmV0aW5hIjogZmFsc2UsCiAgICAgICAgIm1heE5hdGl2ZVpvb20iOiAxOCwKICAgICAgICAibWF4Wm9vbSI6IDE4LAogICAgICAgICJtaW5ab29tIjogMCwKICAgICAgICAibm9XcmFwIjogZmFsc2UsCiAgICAgICAgIm9wYWNpdHkiOiAxLAogICAgICAgICJzdWJkb21haW5zIjogImFiYyIsCiAgICAgICAgInRtcyI6IGZhbHNlCn0pLmFkZFRvKG1hcF84NjFlNTZlNDc0ZTY0OTllOWVlNzBhZmQwNjMyYWE3Myk7CiAgICAKICAgICAgICAgICAgdmFyIGxheWVyX2NvbnRyb2xfMDNmZDcwZTI1MTZiNDFiNDkxNmY5ODhlYjE5M2Y5NzEgPSB7CiAgICAgICAgICAgICAgICBiYXNlX2xheWVycyA6IHsgIm9wZW5zdHJlZXRtYXAiIDogdGlsZV9sYXllcl9hMzk1YWE0OTJhYTU0ZTM5YmFiMmI1NTU5MDU1NzExYywgfSwKICAgICAgICAgICAgICAgIG92ZXJsYXlzIDogeyAiU0YgTEFORFNBVCIgOiB0aWxlX2xheWVyXzU3ZTIzMWYwNGEwZDRhZmI4ZDg0MmNjMTRmNmI3M2ZjLCB9CiAgICAgICAgICAgICAgICB9OwogICAgICAgICAgICBMLmNvbnRyb2wubGF5ZXJzKAogICAgICAgICAgICAgICAgbGF5ZXJfY29udHJvbF8wM2ZkNzBlMjUxNmI0MWI0OTE2Zjk4OGViMTkzZjk3MS5iYXNlX2xheWVycywKICAgICAgICAgICAgICAgIGxheWVyX2NvbnRyb2xfMDNmZDcwZTI1MTZiNDFiNDkxNmY5ODhlYjE5M2Y5NzEub3ZlcmxheXMsCiAgICAgICAgICAgICAgICB7cG9zaXRpb246ICd0b3ByaWdodCcsCiAgICAgICAgICAgICAgICAgY29sbGFwc2VkOiB0cnVlLAogICAgICAgICAgICAgICAgIGF1dG9aSW5kZXg6IHRydWUKICAgICAgICAgICAgICAgIH0pLmFkZFRvKG1hcF84NjFlNTZlNDc0ZTY0OTllOWVlNzBhZmQwNjMyYWE3Myk7CiAgICAgICAgICAgIAogICAgICAgIAo8L3NjcmlwdD4=\" style=\"position:absolute;width:100%;height:100%;left:0;top:0;border:none !important;\" allowfullscreen webkitallowfullscreen mozallowfullscreen></iframe></div></div>"
            ],
            "text/plain": [
              "<folium.folium.Map at 0x7faf9e2dbcf8>"
            ]
          },
          "metadata": {
            "tags": []
          },
          "execution_count": 62
        }
      ]
    },
    {
      "cell_type": "markdown",
      "metadata": {
        "id": "Kl_-NyySd050",
        "colab_type": "text"
      },
      "source": [
        "## to Drive\n",
        "\n",
        "Export video to your Drive account with `ee.batch.Export.video.toDrive`. For example, the following export makes a video from 20 years of Landsat imagery:"
      ]
    },
    {
      "cell_type": "code",
      "metadata": {
        "id": "Iq3JDMCAdKmd",
        "colab_type": "code",
        "colab": {}
      },
      "source": [
        "# Export (change dimensions or scale for higher quality).\n",
        "task = ee.batch.Export.video.toDrive(**{\n",
        "    'collection': collection,\n",
        "    'description': 'sfVideoExample',\n",
        "    'dimensions': 720,\n",
        "    'folder':'Example_folder',\n",
        "    'framesPerSecond': 12,\n",
        "    'region': polygon.getInfo()['coordinates']\n",
        "})\n",
        "task.start()"
      ],
      "execution_count": null,
      "outputs": []
    },
    {
      "cell_type": "code",
      "metadata": {
        "id": "g-NZ2rsNd4xF",
        "colab_type": "code",
        "colab": {}
      },
      "source": [
        "while task.active():\n",
        "  print('Polling for task (id: {}).'.format(task.id))\n",
        "  time.sleep(5)"
      ],
      "execution_count": null,
      "outputs": []
    },
    {
      "cell_type": "markdown",
      "metadata": {
        "id": "0lLSrXEAeIm9",
        "colab_type": "text"
      },
      "source": [
        "Note that the frame rate and dimensions can be set from a dictionary of parameters passed to the export. Adjust these parameters to customize the video. Also note that the input ImageCollection is required to have 3-band (RGB), 8-bit images. In this example, the 8-bit, 3-band format is explicitly set. Alternatively, map a function which calls `image.visualize()` over the collection. See [the section on Visualization images](https://developers.google.com/earth-engine/image_visualization#visualization-images) for details. Video exports can take a significant amount of time to complete, so it's not unusual to see the export task running for an extended period."
      ]
    },
    {
      "cell_type": "markdown",
      "metadata": {
        "id": "Im-NP5bweGcA",
        "colab_type": "text"
      },
      "source": [
        "## to Cloud Storage\n",
        "\n",
        "To export a video to Cloud Storage, use Export.video.toCloudStorage(). For example, using the ImageCollection from the previous example:"
      ]
    },
    {
      "cell_type": "code",
      "metadata": {
        "id": "6L_P318ve0hD",
        "colab_type": "code",
        "colab": {}
      },
      "source": [
        "outputBucket = 'bag_csaybar' #Change for your Cloud Storage bucket\n",
        "\n",
        "# Export video to cloud storage.\n",
        "task = ee.batch.Export.video.toCloudStorage(**{\n",
        "    'collection': collection,\n",
        "    'description': 'sfVideoExampleToCloud',\n",
        "    'dimensions': 720,\n",
        "    'folder':'Example_folder',\n",
        "    'bucket': outputBucket,\n",
        "    'framesPerSecond': 12,\n",
        "    'region': polygon.getInfo()['coordinates']\n",
        "})\n",
        "task.start()"
      ],
      "execution_count": null,
      "outputs": []
    },
    {
      "cell_type": "code",
      "metadata": {
        "id": "XPGouY5oKdj8",
        "colab_type": "code",
        "colab": {
          "base_uri": "https://localhost:8080/",
          "height": 670
        },
        "outputId": "6e45cc92-aba6-4cdd-a17f-80bd41ba372c"
      },
      "source": [
        "!pip install gee2drive"
      ],
      "execution_count": null,
      "outputs": [
        {
          "output_type": "stream",
          "text": [
            "Requirement already satisfied: gee2drive in /usr/local/lib/python3.6/dist-packages (0.1.0)\n",
            "Requirement already satisfied: Pygments>=2.2.0 in /usr/local/lib/python3.6/dist-packages (from gee2drive) (2.6.1)\n",
            "Requirement already satisfied: earthengine-api>=0.1.191 in /usr/local/lib/python3.6/dist-packages (from gee2drive) (0.1.227)\n",
            "Requirement already satisfied: gitpython>=2.1.11 in /usr/local/lib/python3.6/dist-packages (from gee2drive) (3.1.7)\n",
            "Requirement already satisfied: pendulum>=2.0.2 in /usr/local/lib/python3.6/dist-packages (from gee2drive) (2.1.1)\n",
            "Requirement already satisfied: shapely>=1.6.4; platform_system != \"Windows\" in /usr/local/lib/python3.6/dist-packages (from gee2drive) (1.7.0)\n",
            "Requirement already satisfied: prettytable>=0.7.2 in /usr/local/lib/python3.6/dist-packages (from gee2drive) (0.7.2)\n",
            "Requirement already satisfied: google-api-python-client in /usr/local/lib/python3.6/dist-packages (from earthengine-api>=0.1.191->gee2drive) (1.7.12)\n",
            "Requirement already satisfied: httplib2shim in /usr/local/lib/python3.6/dist-packages (from earthengine-api>=0.1.191->gee2drive) (0.0.3)\n",
            "Requirement already satisfied: httplib2<1dev,>=0.9.2 in /usr/local/lib/python3.6/dist-packages (from earthengine-api>=0.1.191->gee2drive) (0.17.4)\n",
            "Requirement already satisfied: six in /usr/local/lib/python3.6/dist-packages (from earthengine-api>=0.1.191->gee2drive) (1.12.0)\n",
            "Requirement already satisfied: future in /usr/local/lib/python3.6/dist-packages (from earthengine-api>=0.1.191->gee2drive) (0.16.0)\n",
            "Requirement already satisfied: google-auth-httplib2>=0.0.3 in /usr/local/lib/python3.6/dist-packages (from earthengine-api>=0.1.191->gee2drive) (0.0.4)\n",
            "Requirement already satisfied: google-auth>=1.4.1 in /usr/local/lib/python3.6/dist-packages (from earthengine-api>=0.1.191->gee2drive) (1.17.2)\n",
            "Requirement already satisfied: google-cloud-storage in /usr/local/lib/python3.6/dist-packages (from earthengine-api>=0.1.191->gee2drive) (1.18.1)\n",
            "Requirement already satisfied: gitdb<5,>=4.0.1 in /usr/local/lib/python3.6/dist-packages (from gitpython>=2.1.11->gee2drive) (4.0.5)\n",
            "Requirement already satisfied: python-dateutil<3.0,>=2.6 in /usr/local/lib/python3.6/dist-packages (from pendulum>=2.0.2->gee2drive) (2.8.1)\n",
            "Requirement already satisfied: pytzdata>=2020.1 in /usr/local/lib/python3.6/dist-packages (from pendulum>=2.0.2->gee2drive) (2020.1)\n",
            "Requirement already satisfied: uritemplate<4dev,>=3.0.0 in /usr/local/lib/python3.6/dist-packages (from google-api-python-client->earthengine-api>=0.1.191->gee2drive) (3.0.1)\n",
            "Requirement already satisfied: urllib3 in /usr/local/lib/python3.6/dist-packages (from httplib2shim->earthengine-api>=0.1.191->gee2drive) (1.24.3)\n",
            "Requirement already satisfied: certifi in /usr/local/lib/python3.6/dist-packages (from httplib2shim->earthengine-api>=0.1.191->gee2drive) (2020.6.20)\n",
            "Requirement already satisfied: rsa<5,>=3.1.4; python_version >= \"3\" in /usr/local/lib/python3.6/dist-packages (from google-auth>=1.4.1->earthengine-api>=0.1.191->gee2drive) (4.6)\n",
            "Requirement already satisfied: pyasn1-modules>=0.2.1 in /usr/local/lib/python3.6/dist-packages (from google-auth>=1.4.1->earthengine-api>=0.1.191->gee2drive) (0.2.8)\n",
            "Requirement already satisfied: setuptools>=40.3.0 in /usr/local/lib/python3.6/dist-packages (from google-auth>=1.4.1->earthengine-api>=0.1.191->gee2drive) (49.1.0)\n",
            "Requirement already satisfied: cachetools<5.0,>=2.0.0 in /usr/local/lib/python3.6/dist-packages (from google-auth>=1.4.1->earthengine-api>=0.1.191->gee2drive) (4.1.1)\n",
            "Requirement already satisfied: google-resumable-media<0.5.0dev,>=0.3.1 in /usr/local/lib/python3.6/dist-packages (from google-cloud-storage->earthengine-api>=0.1.191->gee2drive) (0.4.1)\n",
            "Requirement already satisfied: google-cloud-core<2.0dev,>=1.0.0 in /usr/local/lib/python3.6/dist-packages (from google-cloud-storage->earthengine-api>=0.1.191->gee2drive) (1.0.3)\n",
            "Requirement already satisfied: smmap<4,>=3.0.1 in /usr/local/lib/python3.6/dist-packages (from gitdb<5,>=4.0.1->gitpython>=2.1.11->gee2drive) (3.0.4)\n",
            "Requirement already satisfied: pyasn1>=0.1.3 in /usr/local/lib/python3.6/dist-packages (from rsa<5,>=3.1.4; python_version >= \"3\"->google-auth>=1.4.1->earthengine-api>=0.1.191->gee2drive) (0.4.8)\n",
            "Requirement already satisfied: google-api-core<2.0.0dev,>=1.14.0 in /usr/local/lib/python3.6/dist-packages (from google-cloud-core<2.0dev,>=1.0.0->google-cloud-storage->earthengine-api>=0.1.191->gee2drive) (1.16.0)\n",
            "Requirement already satisfied: protobuf>=3.4.0 in /usr/local/lib/python3.6/dist-packages (from google-api-core<2.0.0dev,>=1.14.0->google-cloud-core<2.0dev,>=1.0.0->google-cloud-storage->earthengine-api>=0.1.191->gee2drive) (3.12.2)\n",
            "Requirement already satisfied: pytz in /usr/local/lib/python3.6/dist-packages (from google-api-core<2.0.0dev,>=1.14.0->google-cloud-core<2.0dev,>=1.0.0->google-cloud-storage->earthengine-api>=0.1.191->gee2drive) (2018.9)\n",
            "Requirement already satisfied: requests<3.0.0dev,>=2.18.0 in /usr/local/lib/python3.6/dist-packages (from google-api-core<2.0.0dev,>=1.14.0->google-cloud-core<2.0dev,>=1.0.0->google-cloud-storage->earthengine-api>=0.1.191->gee2drive) (2.23.0)\n",
            "Requirement already satisfied: googleapis-common-protos<2.0dev,>=1.6.0 in /usr/local/lib/python3.6/dist-packages (from google-api-core<2.0.0dev,>=1.14.0->google-cloud-core<2.0dev,>=1.0.0->google-cloud-storage->earthengine-api>=0.1.191->gee2drive) (1.52.0)\n",
            "Requirement already satisfied: chardet<4,>=3.0.2 in /usr/local/lib/python3.6/dist-packages (from requests<3.0.0dev,>=2.18.0->google-api-core<2.0.0dev,>=1.14.0->google-cloud-core<2.0dev,>=1.0.0->google-cloud-storage->earthengine-api>=0.1.191->gee2drive) (3.0.4)\n",
            "Requirement already satisfied: idna<3,>=2.5 in /usr/local/lib/python3.6/dist-packages (from requests<3.0.0dev,>=2.18.0->google-api-core<2.0.0dev,>=1.14.0->google-cloud-core<2.0dev,>=1.0.0->google-cloud-storage->earthengine-api>=0.1.191->gee2drive) (2.10)\n"
          ],
          "name": "stdout"
        }
      ]
    },
    {
      "cell_type": "code",
      "metadata": {
        "id": "VD394HUBKVsh",
        "colab_type": "code",
        "colab": {}
      },
      "source": [
        "import ee\n",
        "import os\n",
        "import sys\n",
        "import gee2drive\n",
        "[head,tail]=os.path.split(gee2drive.__file__)\n",
        "os.chdir(head)\n",
        "sys.path.append(head)\n",
        "from export import exp\n"
      ],
      "execution_count": null,
      "outputs": []
    },
    {
      "cell_type": "code",
      "metadata": {
        "id": "TfvXBsC6KaO0",
        "colab_type": "code",
        "colab": {
          "base_uri": "https://localhost:8080/",
          "height": 202
        },
        "outputId": "20fd39b8-f595-4e55-d47a-e1e62d204ab1"
      },
      "source": [
        "ee.Initialize()\n",
        "exp(collection=ee.ImageCollection('LANDSAT/LC08/C01/T1').filterMetadata('CLOUD_COVER','less_than',20),\n",
        "    folderpath=\"l8-out\",start=\"2018-02-01\",end=\"2018-06-01\",\n",
        "    geojson=r\"/content/drive/boulder.geojson\",bandnames=\"['B4','B3','B2']\", operator=\"bb\",typ=\"ImageCollection\")"
      ],
      "execution_count": null,
      "outputs": [
        {
          "output_type": "error",
          "ename": "TypeError",
          "evalue": "ignored",
          "traceback": [
            "\u001b[0;31m---------------------------------------------------------------------------\u001b[0m",
            "\u001b[0;31mTypeError\u001b[0m                                 Traceback (most recent call last)",
            "\u001b[0;32m<ipython-input-4-c62b5e1e9d2a>\u001b[0m in \u001b[0;36m<module>\u001b[0;34m()\u001b[0m\n\u001b[1;32m      2\u001b[0m exp(collection=ee.ImageCollection('LANDSAT/LC08/C01/T1').filterMetadata('CLOUD_COVER','less_than',20),\n\u001b[1;32m      3\u001b[0m     \u001b[0mfolderpath\u001b[0m\u001b[0;34m=\u001b[0m\u001b[0;34m\"l8-out\"\u001b[0m\u001b[0;34m,\u001b[0m\u001b[0mstart\u001b[0m\u001b[0;34m=\u001b[0m\u001b[0;34m\"2018-02-01\"\u001b[0m\u001b[0;34m,\u001b[0m\u001b[0mend\u001b[0m\u001b[0;34m=\u001b[0m\u001b[0;34m\"2018-06-01\"\u001b[0m\u001b[0;34m,\u001b[0m\u001b[0;34m\u001b[0m\u001b[0;34m\u001b[0m\u001b[0m\n\u001b[0;32m----> 4\u001b[0;31m     geojson=r\"/content/drive/boulder.geojson\",bandnames=\"['B4','B3','B2']\", operator=\"bb\",typ=\"ImageCollection\")\n\u001b[0m",
            "\u001b[0;31mTypeError\u001b[0m: exp() missing 1 required positional argument: 'ff'"
          ]
        }
      ]
    },
    {
      "cell_type": "code",
      "metadata": {
        "id": "JE_L4hRENiO3",
        "colab_type": "code",
        "colab": {
          "base_uri": "https://localhost:8080/",
          "height": 132
        },
        "outputId": "33fdab22-da9a-4d8a-9a28-36d175d1bdd2"
      },
      "source": [
        "// Load a landsat image and select three bands.\n",
        "var landsat = ee.Image('LANDSAT/LC08/C01/T1_TOA/LC08_123032_20140515')\n",
        "  .select(['B4', 'B3', 'B2']);\n",
        "\n",
        "// Create a geometry representing an export region.\n",
        "var geometry = ee.Geometry.Rectangle([103.9577, 1.4126, 103.5540, 1.2548]);\n",
        "\n",
        "// Export the image, specifying scale and region.\n",
        "Export.image.toDrive({\n",
        "  image: landsat,\n",
        "  description: 'PU_sgimageToDriveExample',\n",
        "  scale: 30,\n",
        "  region: geometry\n",
        "});"
      ],
      "execution_count": null,
      "outputs": [
        {
          "output_type": "error",
          "ename": "SyntaxError",
          "evalue": "ignored",
          "traceback": [
            "\u001b[0;36m  File \u001b[0;32m\"<ipython-input-8-365f2821d118>\"\u001b[0;36m, line \u001b[0;32m1\u001b[0m\n\u001b[0;31m    (/, Load, a, landsat, image, and, select, three, bands.)\u001b[0m\n\u001b[0m     ^\u001b[0m\n\u001b[0;31mSyntaxError\u001b[0m\u001b[0;31m:\u001b[0m invalid syntax\n"
          ]
        }
      ]
    },
    {
      "cell_type": "markdown",
      "metadata": {
        "id": "EYUFeS1rfIDc",
        "colab_type": "text"
      },
      "source": [
        "<!--NAVIGATION-->\n",
        " < [Specialized Algorithms](9_SpecializedAlgorithms.ipynb) | [Contents](index.ipynb) |  \n",
        "\n",
        "<a href=\"https://colab.research.google.com/github/csaybar/EEwPython/blob/master/9_SpecializedAlgorithms.ipynb\"><img align=\"left\" src=\"https://colab.research.google.com/assets/colab-badge.svg\" alt=\"Open in Colab\" title=\"Open and Execute in Google Colaboratory\"></a>"
      ]
    }
  ]
}